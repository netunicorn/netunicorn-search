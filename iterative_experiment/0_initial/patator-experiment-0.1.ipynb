{
 "cells": [
  {
   "attachments": {},
   "cell_type": "markdown",
   "id": "fcef718c-397d-4912-a743-b481d7b934df",
   "metadata": {},
   "source": [
    "# Experiment 0.1."
   ]
  },
  {
   "attachments": {},
   "cell_type": "markdown",
   "id": "195ff332-1909-4838-ba69-d562eb3c2843",
   "metadata": {},
   "source": [
    "## Collecting training data from Campus infrastructure"
   ]
  },
  {
   "cell_type": "code",
   "execution_count": 1,
   "id": "657eb616-117c-4601-9a98-7682c8a51670",
   "metadata": {},
   "outputs": [
    {
     "data": {
      "text/plain": [
       "'3.10.0 (default, Mar  3 2022, 09:58:08) [GCC 7.5.0]'"
      ]
     },
     "execution_count": 1,
     "metadata": {},
     "output_type": "execute_result"
    }
   ],
   "source": [
    "import sys\n",
    "sys.version"
   ]
  },
  {
   "cell_type": "code",
   "execution_count": 8,
   "id": "34390fb7-ced4-435c-a44f-a407d0c7315f",
   "metadata": {},
   "outputs": [
    {
     "name": "stdout",
     "output_type": "stream",
     "text": [
      "The dotenv extension is already loaded. To reload it, use:\n",
      "  %reload_ext dotenv\n"
     ]
    }
   ],
   "source": [
    "%load_ext dotenv\n",
    "%dotenv"
   ]
  },
  {
   "cell_type": "code",
   "execution_count": 4,
   "id": "2aa438c5-7909-49b2-8cfd-8fcc341e3217",
   "metadata": {},
   "outputs": [],
   "source": [
    "import os\n",
    "\n",
    "from netunicorn.base import Task, ExperimentStatus, Experiment, Pipeline\n",
    "\n",
    "from netunicorn.library.tasks.basic import ShellCommand\n",
    "from netunicorn.library.tasks.upload.webdav import UploadToWebDav\n",
    "from netunicorn.client.remote import RemoteClient"
   ]
  },
  {
   "cell_type": "code",
   "execution_count": 11,
   "id": "6c82fc9d-81c1-4698-bc4d-510312ef2263",
   "metadata": {},
   "outputs": [],
   "source": [
    "class BenignTask(Task):\n",
    "    def __init__(self, url1, url2, *args, **kwargs):\n",
    "        self.url1 = url1\n",
    "        self.url2 = url2\n",
    "        super().__init__(*args, **kwargs)\n",
    "    \n",
    "    def run(self):\n",
    "        import subprocess\n",
    "        for i in range(500):\n",
    "            subprocess.check_output(f'curl {self.url1}', shell=True)\n",
    "            subprocess.check_output(f'curl {self.url2}', shell=True)\n",
    "        return 0"
   ]
  },
  {
   "cell_type": "code",
   "execution_count": 9,
   "id": "9c3377ab-5bbe-4264-8e71-a32392843b86",
   "metadata": {},
   "outputs": [],
   "source": [
    "attacker_pipeline = (\n",
    "    Pipeline()\n",
    "    .then(ShellCommand(\n",
    "        \"python ./patator.py http_fuzz \"\n",
    "        f\"url={os.environ['VICTIM_ENDPOINT']} \"\n",
    "        \"persistent=1 user_pass=FILE0:FILE0 0=/opt/patator/passwords.txt -x ignore:code=401\"\n",
    "    ))\n",
    ")\n",
    "attacker_pipeline.environment_definition.image = \"pinot.cs.ucsb.edu/patator:arm64-v5\""
   ]
  },
  {
   "cell_type": "code",
   "execution_count": 12,
   "id": "d9350159-b490-461c-ad5c-f4b8cf4016bc",
   "metadata": {},
   "outputs": [],
   "source": [
    "benign_pipeline = Pipeline().then(BenignTask(\n",
    "    \"https://pinot.cs.ucsb.edu/about/\",\n",
    "    \"https://pinot.cs.ucsb.edu/netunicorn/health\",\n",
    "))\n",
    "benign_pipeline.environment_definition.image = \"pinot.cs.ucsb.edu/patator:arm64-v5\""
   ]
  },
  {
   "cell_type": "code",
   "execution_count": 14,
   "id": "0a375f7f-ce05-4a19-85e8-1f978563a893",
   "metadata": {},
   "outputs": [],
   "source": [
    "client = RemoteClient(\n",
    "    endpoint=os.environ['NETUNICORN_ENDPOINT'],\n",
    "    login=os.environ['NETUNICORN_LOGIN'],\n",
    "    password=os.environ['NETUNICORN_PASSWORD']\n",
    ")"
   ]
  },
  {
   "cell_type": "code",
   "execution_count": 15,
   "id": "424ea55f-0bec-4284-b7a2-55c47f8fa13f",
   "metadata": {},
   "outputs": [],
   "source": [
    "minion_pool = client.get_nodes()"
   ]
  },
  {
   "cell_type": "code",
   "execution_count": 18,
   "id": "bce0af01-7d60-413d-a9ee-05839df2b741",
   "metadata": {},
   "outputs": [],
   "source": [
    "attackers = {\"raspi-e4:5f:01:56:d9:3a\", \"raspi-e4:5f:01:79:4a:18\", \"raspi-e4:5f:01:75:6e:53\", \"raspi-e4:5f:01:56:d6:ce\"}\n",
    "attacker_pool = minion_pool.filter(lambda x: x.name in attackers).take(4)\n",
    "benign_pool = minion_pool.filter(lambda x: x.name.startswith(\"raspi\") and x.name not in attackers).take(3)"
   ]
  },
  {
   "cell_type": "code",
   "execution_count": 19,
   "id": "6b1d06c2-ce99-46e4-b431-69f2e98dae91",
   "metadata": {},
   "outputs": [],
   "source": [
    "assert len(attacker_pool) == 4\n",
    "assert len(benign_pool) == 3"
   ]
  },
  {
   "cell_type": "code",
   "execution_count": 21,
   "id": "ae17050b-8337-4660-a8c6-e7834f1ddccb",
   "metadata": {},
   "outputs": [],
   "source": [
    "experiment = Experiment().map(attacker_pipeline, attacker_pool).map(benign_pipeline, benign_pool)"
   ]
  },
  {
   "cell_type": "code",
   "execution_count": 35,
   "id": "9c48fde1-206f-4614-9ff0-3973937c18cc",
   "metadata": {},
   "outputs": [],
   "source": [
    "experiment_label = 'patator-rebuttal-0.2'"
   ]
  },
  {
   "cell_type": "code",
   "execution_count": 36,
   "id": "e2cbb4da-3671-41e0-955f-d11b67538dde",
   "metadata": {},
   "outputs": [
    {
     "data": {
      "text/plain": [
       "'patator-rebuttal-0.2'"
      ]
     },
     "execution_count": 36,
     "metadata": {},
     "output_type": "execute_result"
    }
   ],
   "source": [
    "client.prepare_experiment(experiment, experiment_label)"
   ]
  },
  {
   "cell_type": "code",
   "execution_count": 41,
   "id": "f91d9253",
   "metadata": {},
   "outputs": [
    {
     "data": {
      "text/plain": [
       "ExperimentExecutionInformation:\n",
       "status: ExperimentStatus.RUNNING\n",
       "experiment: \n",
       " - Deployment: Node=raspi-e4:5f:01:56:d6:ce, executor_id=cccd6fbc-faa8-4494-9d5a-8118436871e3, prepared=True\n",
       " - Deployment: Node=raspi-e4:5f:01:75:6e:53, executor_id=e2414edd-a5d5-405a-8bf7-3c9e1baf4b23, prepared=True\n",
       " - Deployment: Node=raspi-e4:5f:01:56:d9:3a, executor_id=f221fb19-81f4-4291-be43-e7f8c3b6f4ac, prepared=True\n",
       " - Deployment: Node=raspi-e4:5f:01:79:4a:18, executor_id=0e818bc5-d8c5-4e67-992e-58dadd33afb7, prepared=True\n",
       " - Deployment: Node=raspi-e4:5f:01:72:a2:eb, executor_id=c4d01d6b-98e3-4c92-8ca1-3755b55d2e6a, prepared=True\n",
       " - Deployment: Node=raspi-e4:5f:01:56:d8:cd, executor_id=ce5e546d-5789-4eee-a47b-1dcff18cd396, prepared=True\n",
       " - Deployment: Node=raspi-e4:5f:01:56:d9:0a, executor_id=aceeb6ad-0f54-4ef5-9031-29cf339a2068, prepared=True\n",
       "execution_result:\n",
       "[DeploymentExecutionResult:\n",
       "  Node: {self.node}\n",
       "  Result: <class 'returns.result.Success'>\n",
       "    08753712-fbf3-4aa9-b33b-234eceeca33b: [<Success: b''>]\n",
       "  Logs:\n",
       "    Parsed configuration: Gateway located on https://pinot.cs.ucsb.edu/dev/netunicorn/gateway\n",
       "    Current directory: /opt/patator\n",
       "    Successfully received pipeline.\n",
       "    Pipeline finished, start reporting results.\n",
       "\n",
       ", DeploymentExecutionResult:\n",
       "  Node: {self.node}\n",
       "  Result: <class 'returns.result.Success'>\n",
       "    08753712-fbf3-4aa9-b33b-234eceeca33b: [<Success: b''>]\n",
       "  Logs:\n",
       "    Parsed configuration: Gateway located on https://pinot.cs.ucsb.edu/dev/netunicorn/gateway\n",
       "    Current directory: /opt/patator\n",
       "    Successfully received pipeline.\n",
       "    Pipeline finished, start reporting results.\n",
       "\n",
       ", DeploymentExecutionResult:\n",
       "  Node: {self.node}\n",
       "  Result: <class 'returns.result.Success'>\n",
       "    08753712-fbf3-4aa9-b33b-234eceeca33b: [<Success: b''>]\n",
       "  Logs:\n",
       "    Parsed configuration: Gateway located on https://pinot.cs.ucsb.edu/dev/netunicorn/gateway\n",
       "    Current directory: /opt/patator\n",
       "    Successfully received pipeline.\n",
       "    Pipeline finished, start reporting results.\n",
       "\n",
       ", DeploymentExecutionResult:\n",
       "  Node: {self.node}\n",
       "  Result: <class 'returns.result.Success'>\n",
       "    08753712-fbf3-4aa9-b33b-234eceeca33b: [<Success: b''>]\n",
       "  Logs:\n",
       "    Parsed configuration: Gateway located on https://pinot.cs.ucsb.edu/dev/netunicorn/gateway\n",
       "    Current directory: /opt/patator\n",
       "    Successfully received pipeline.\n",
       "    Pipeline finished, start reporting results.\n",
       "\n",
       ", DeploymentExecutionResult:\n",
       "  Node: {self.node}\n",
       "\n",
       ", DeploymentExecutionResult:\n",
       "  Node: {self.node}\n",
       "\n",
       ", DeploymentExecutionResult:\n",
       "  Node: {self.node}\n",
       "\n",
       "]"
      ]
     },
     "execution_count": 41,
     "metadata": {},
     "output_type": "execute_result"
    }
   ],
   "source": [
    "client.get_experiment_status(experiment_label)"
   ]
  },
  {
   "cell_type": "code",
   "execution_count": 39,
   "id": "e7a53be3-52e3-4760-a266-671db6ef28fd",
   "metadata": {},
   "outputs": [
    {
     "data": {
      "text/plain": [
       "'patator-rebuttal-0.2'"
      ]
     },
     "execution_count": 39,
     "metadata": {},
     "output_type": "execute_result"
    }
   ],
   "source": [
    "client.start_execution(experiment_label)"
   ]
  },
  {
   "attachments": {},
   "cell_type": "markdown",
   "id": "7c520d2d-f367-42ae-9138-e174b77312fe",
   "metadata": {},
   "source": [
    "## Collecting testing data from Azure infrastructure"
   ]
  },
  {
   "cell_type": "code",
   "execution_count": 16,
   "id": "4b33f390-a400-4e18-b8f5-fc65999e44bd",
   "metadata": {},
   "outputs": [],
   "source": [
    "attacker_pipeline = (\n",
    "    Pipeline()\n",
    "    .then(ShellCommand(\n",
    "        \"python ./patator.py http_fuzz \"\n",
    "        f\"url={os.environ['AZURE_VICTIM_ENDPOINT']} \"\n",
    "        \"persistent=1 user_pass=FILE0:FILE0 0=/opt/patator/passwords.txt -x ignore:code=401\"\n",
    "    ))\n",
    ")\n",
    "attacker_pipeline.environment_definition.image = \"redacted\"\n",
    "\n",
    "benign_pipeline = Pipeline().then(BenignTask(\n",
    "    \"http://172.174.8.19/about.html\",\n",
    "    \"http://172.174.8.19:26511/health\",\n",
    "))\n",
    "benign_pipeline.environment_definition.image = \"redacted\""
   ]
  },
  {
   "cell_type": "code",
   "execution_count": 17,
   "id": "656aacd7-0d79-4c11-9772-37d0a32ab44d",
   "metadata": {},
   "outputs": [],
   "source": [
    "experiment = Experiment().map(attacker_pool, attacker_pipeline).map(benign_pool, benign_pipeline)"
   ]
  },
  {
   "cell_type": "code",
   "execution_count": 18,
   "id": "b4b16a60-4361-4549-989e-7fbf7c4fbb2a",
   "metadata": {},
   "outputs": [],
   "source": [
    "experiment_label = 'patator-external-0.1.1'"
   ]
  },
  {
   "cell_type": "code",
   "execution_count": 19,
   "id": "fbba343c-11ae-4fbb-ae0e-8088ccc0409e",
   "metadata": {},
   "outputs": [
    {
     "data": {
      "text/plain": [
       "'patator-external-0.1.1'"
      ]
     },
     "execution_count": 19,
     "metadata": {},
     "output_type": "execute_result"
    }
   ],
   "source": [
    "client.prepare_experiment(experiment, experiment_label)"
   ]
  },
  {
   "cell_type": "code",
   "execution_count": 20,
   "id": "adda40d9-e21e-4283-93b3-59a44b93e02c",
   "metadata": {},
   "outputs": [
    {
     "data": {
      "text/plain": [
       "'patator-external-0.1.1'"
      ]
     },
     "execution_count": 20,
     "metadata": {},
     "output_type": "execute_result"
    }
   ],
   "source": [
    "client.start_execution(experiment_label)"
   ]
  },
  {
   "attachments": {},
   "cell_type": "markdown",
   "id": "a1599171-9dca-4191-bccf-88e657cafe54",
   "metadata": {},
   "source": [
    "## Collecting testing data from multi-cloud dataset"
   ]
  },
  {
   "cell_type": "code",
   "execution_count": 18,
   "id": "79ae5777-35aa-423a-86b2-225879725314",
   "metadata": {},
   "outputs": [
    {
     "data": {
      "text/plain": [
       "[netunicorn-search-aws-1, netunicorn-search-aws-2, raspi-e4:5f:01:56:d9:a3, raspi-e4:5f:01:75:6b:2c, raspi-e4:5f:01:56:d6:ce, raspi-dc:a6:32:d7:6e:64, raspi-e4:5f:01:56:d9:3d, raspi-e4:5f:01:75:71:17, raspi-e4:5f:01:56:d9:0a, raspi-e4:5f:01:56:d9:3a, raspi-e4:5f:01:75:6b:35, raspi-e4:5f:01:72:a2:eb, raspi-e4:5f:01:56:d8:cd, raspi-e4:5f:01:56:d5:2b, raspi-e4:5f:01:75:6e:53, raspi-e4:5f:01:56:d9:73, raspi-e4:5f:01:75:54:04, raspi-e4:5f:01:56:d9:8b, raspi-e4:5f:01:72:89:99, raspi-e4:5f:01:79:4a:18, raspi-e4:5f:01:56:d9:a2, raspi-e4:5f:01:56:d8:fc, netunicorn-search-aws-3, netunicorn-search-digitalocean-2, netunicorn-search-digitalocean-1]"
      ]
     },
     "execution_count": 18,
     "metadata": {},
     "output_type": "execute_result"
    }
   ],
   "source": [
    "minion_pool"
   ]
  },
  {
   "cell_type": "code",
   "execution_count": 19,
   "id": "3c4959e8-4260-43ba-8d1a-9a6444833e15",
   "metadata": {},
   "outputs": [],
   "source": [
    "attacker_pool = MinionPool([x for x in minion_pool if x.name in {\n",
    "    'netunicorn-search-aws-1',\n",
    "    'netunicorn-search-digitalocean-1',\n",
    "}])\n",
    "benign_pool = MinionPool([x for x in minion_pool if x.name in {\n",
    "    'netunicorn-search-aws-2',\n",
    "    'netunicorn-search-aws-3',\n",
    "    'netunicorn-search-digitalocean-2',\n",
    "}])"
   ]
  },
  {
   "cell_type": "code",
   "execution_count": 20,
   "id": "0d5b8011-b657-4219-a847-7040dbef772a",
   "metadata": {},
   "outputs": [
    {
     "name": "stdout",
     "output_type": "stream",
     "text": [
      "[netunicorn-search-aws-1, netunicorn-search-digitalocean-1]\n",
      "[netunicorn-search-aws-2, netunicorn-search-aws-3, netunicorn-search-digitalocean-2]\n"
     ]
    }
   ],
   "source": [
    "print(attacker_pool)\n",
    "print(benign_pool)"
   ]
  },
  {
   "cell_type": "code",
   "execution_count": 21,
   "id": "e5154ee5-baad-4309-81d8-6f8d678dc43a",
   "metadata": {},
   "outputs": [],
   "source": [
    "attacker_pipeline = (\n",
    "    Pipeline()\n",
    "    .then(ShellCommand(\n",
    "        \"python ./patator.py http_fuzz \"\n",
    "        f\"url={os.environ['AZURE_VICTIM_ENDPOINT']} \"\n",
    "        \"persistent=1 user_pass=FILE0:FILE0 0=/opt/patator/passwords.txt -x ignore:code=401\"\n",
    "    ))\n",
    ")\n",
    "attacker_pipeline.environment_definition.image = \"redacted\"\n",
    "\n",
    "benign_pipeline = Pipeline().then(BenignTask(\n",
    "    \"http://172.174.8.19/about.html\",\n",
    "    \"http://172.174.8.19:26511/health\",\n",
    "))\n",
    "benign_pipeline.environment_definition.image = \"redacted\""
   ]
  },
  {
   "cell_type": "code",
   "execution_count": 22,
   "id": "05d53efa-8990-4ed7-a5ee-79df6b862fe0",
   "metadata": {},
   "outputs": [],
   "source": [
    "experiment_label = 'patator-multicloud-0.1.2'"
   ]
  },
  {
   "cell_type": "code",
   "execution_count": 23,
   "id": "9f61b893-5acf-461b-86a8-1d734244d2f8",
   "metadata": {},
   "outputs": [],
   "source": [
    "experiment = Experiment().map(attacker_pool, attacker_pipeline).map(benign_pool, benign_pipeline)"
   ]
  },
  {
   "cell_type": "code",
   "execution_count": 24,
   "id": "dcbca259-61d8-4698-a7e9-729e301d0de3",
   "metadata": {},
   "outputs": [
    {
     "data": {
      "text/plain": [
       "'patator-multicloud-0.1.2'"
      ]
     },
     "execution_count": 24,
     "metadata": {},
     "output_type": "execute_result"
    }
   ],
   "source": [
    "client.prepare_experiment(experiment, experiment_label)"
   ]
  },
  {
   "cell_type": "code",
   "execution_count": 25,
   "id": "4ff0ab2f-ba97-4009-800c-e1dc6afbb4d8",
   "metadata": {},
   "outputs": [
    {
     "data": {
      "text/plain": [
       "'patator-multicloud-0.1.2'"
      ]
     },
     "execution_count": 25,
     "metadata": {},
     "output_type": "execute_result"
    }
   ],
   "source": [
    "client.start_execution(experiment_label)"
   ]
  },
  {
   "cell_type": "code",
   "execution_count": null,
   "id": "430a71d4-e563-4f99-b0fd-d67dfb309025",
   "metadata": {},
   "outputs": [],
   "source": []
  }
 ],
 "metadata": {
  "kernelspec": {
   "display_name": "Python 3 (ipykernel)",
   "language": "python",
   "name": "python3"
  },
  "language_info": {
   "codemirror_mode": {
    "name": "ipython",
    "version": 3
   },
   "file_extension": ".py",
   "mimetype": "text/x-python",
   "name": "python",
   "nbconvert_exporter": "python",
   "pygments_lexer": "ipython3",
   "version": "3.10.0"
  }
 },
 "nbformat": 4,
 "nbformat_minor": 5
}
